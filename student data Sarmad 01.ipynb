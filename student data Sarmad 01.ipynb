{
 "cells": [
  {
   "cell_type": "code",
   "execution_count": 1,
   "id": "b60f7cf8-d37f-44cc-80c3-57a72821da17",
   "metadata": {},
   "outputs": [],
   "source": [
    "import csv"
   ]
  },
  {
   "cell_type": "code",
   "execution_count": 6,
   "id": "3861eec4-2437-46ae-864e-8375f46c4f0d",
   "metadata": {},
   "outputs": [
    {
     "data": {
      "text/plain": [
       "<_io.TextIOWrapper name='student data.csv' mode='r' encoding='cp1252'>"
      ]
     },
     "execution_count": 6,
     "metadata": {},
     "output_type": "execute_result"
    }
   ],
   "source": [
    "open_file= open('student data.csv' ,mode ='r')\n",
    "open_file"
   ]
  },
  {
   "cell_type": "code",
   "execution_count": 7,
   "id": "7fdd3364-4c85-44c4-8d0b-0981d0756b95",
   "metadata": {},
   "outputs": [
    {
     "data": {
      "text/plain": [
       "<_csv.reader at 0x20e8fbd2200>"
      ]
     },
     "execution_count": 7,
     "metadata": {},
     "output_type": "execute_result"
    }
   ],
   "source": [
    "reader = csv.reader(open_file)\n",
    "reader"
   ]
  },
  {
   "cell_type": "code",
   "execution_count": 8,
   "id": "eb905e27-9a9a-444b-b1b1-870a529de3ff",
   "metadata": {},
   "outputs": [
    {
     "data": {
      "text/plain": [
       "[['roll no', 'Name', 'Chemistry', 'Physics', 'Math'],\n",
       " ['101', 'Aliza', '50', '23', '87'],\n",
       " ['102', 'Fareed', '45', '24', '88'],\n",
       " ['103', 'Basit', '46', '25', '89'],\n",
       " ['104', 'Abdullah', '47', '26', '90'],\n",
       " ['105', 'Ali', '48', '27', '67'],\n",
       " ['106', 'Mubashir', '49', '28', '68'],\n",
       " ['107', 'Waleed', '50', '29', '69'],\n",
       " ['108', 'Mansoor', '51', '30', '70'],\n",
       " ['109', 'Zain', '52', '31', '71'],\n",
       " ['110', 'Mohsin', '53', '67', '72'],\n",
       " ['111', 'Shahmeer', '54', '68', '73'],\n",
       " ['112', 'Rao', '55', '69', '74'],\n",
       " ['113', 'Aurangzeb', '56', '70', '75'],\n",
       " ['114', 'Zeeshan', '57', '71', '76'],\n",
       " ['115', 'Hamna', '58', '72', '77'],\n",
       " ['116', 'Hamza', '59', '73', '78'],\n",
       " ['117', 'Khalid', '60', '74', '79'],\n",
       " ['118', 'Behroz', '61', '75', '80'],\n",
       " ['119', 'Justin', '62', '76', '81'],\n",
       " ['120', 'Danish', '63', '77', '82'],\n",
       " ['121', 'Kainat', '64', '78', '83'],\n",
       " ['122', 'Sameer', '65', '79', '84'],\n",
       " ['123', 'Raza', '66', '80', '85'],\n",
       " ['124', 'Kumar', '67', '81', '86'],\n",
       " ['125', 'Komal', '68', '82', '87'],\n",
       " ['126', 'Erum', '69', '83', '88'],\n",
       " ['127', 'Faiza', '70', '84', '89'],\n",
       " ['128', 'Saeed', '71', '85', '90'],\n",
       " ['129', 'Waqar', '72', '86', '91'],\n",
       " ['130', 'Wali', '73', '87', '92'],\n",
       " ['131', 'Wajid', '74', '88', '93'],\n",
       " ['132', 'Waseeb', '75', '89', '94'],\n",
       " ['133', 'Shiza', '76', '90', '95'],\n",
       " ['134', 'Shabina', '77', '91', '96'],\n",
       " ['135', 'Shazain', '78', '55', '97'],\n",
       " ['136', 'Lubna', '79', '61', '98'],\n",
       " ['137', 'Laiba', '80', '88', '78'],\n",
       " ['138', 'Khursheed', '81', '56', '45'],\n",
       " ['139', 'Ali', '82', '89', '46'],\n",
       " ['140', 'Aiza', '83', '45', '89'],\n",
       " ['141', 'Aiman', '84', '92', '78'],\n",
       " ['142', 'Yasmeen', '85', '36', '56'],\n",
       " ['143', 'Tasbeel', '86', '78', '78'],\n",
       " ['144', 'Laraib', '87', '56', '54'],\n",
       " ['145', 'Saleem', '88', '78', '78'],\n",
       " ['146', 'Bismil', '89', '89', '46'],\n",
       " ['147', 'Batool', '90', '56', '79'],\n",
       " ['148', 'Iqra', '91', '33', '46'],\n",
       " ['149', 'Zarnish', '92', '78', '45'],\n",
       " ['150', 'Zara', '83', '45', '56']]"
      ]
     },
     "execution_count": 8,
     "metadata": {},
     "output_type": "execute_result"
    }
   ],
   "source": [
    "data = list(reader)\n",
    "data"
   ]
  },
  {
   "cell_type": "code",
   "execution_count": 9,
   "id": "8ca7aa02-b06c-446c-9e1e-91b2b8138627",
   "metadata": {},
   "outputs": [
    {
     "data": {
      "text/plain": [
       "['roll no', 'Name', 'Chemistry', 'Physics', 'Math']"
      ]
     },
     "execution_count": 9,
     "metadata": {},
     "output_type": "execute_result"
    }
   ],
   "source": [
    "data[0]"
   ]
  },
  {
   "cell_type": "code",
   "execution_count": 13,
   "id": "7def0865-ab81-46e7-a1db-542f9dd2c4c4",
   "metadata": {},
   "outputs": [
    {
     "name": "stdout",
     "output_type": "stream",
     "text": [
      "roll no\n",
      "101\n",
      "102\n",
      "103\n",
      "104\n",
      "105\n",
      "106\n",
      "107\n",
      "108\n",
      "109\n",
      "110\n",
      "111\n",
      "112\n",
      "113\n",
      "114\n",
      "115\n",
      "116\n",
      "117\n",
      "118\n",
      "119\n",
      "120\n",
      "121\n",
      "122\n",
      "123\n",
      "124\n",
      "125\n",
      "126\n",
      "127\n",
      "128\n",
      "129\n",
      "130\n",
      "131\n",
      "132\n",
      "133\n",
      "134\n",
      "135\n",
      "136\n",
      "137\n",
      "138\n",
      "139\n",
      "140\n",
      "141\n",
      "142\n",
      "143\n",
      "144\n",
      "145\n",
      "146\n",
      "147\n",
      "148\n",
      "149\n",
      "150\n"
     ]
    }
   ],
   "source": [
    "for i in data:\n",
    "    print(i[0])"
   ]
  },
  {
   "cell_type": "code",
   "execution_count": 14,
   "id": "4c6310af-f20d-4e2d-a227-eeed51bc18f4",
   "metadata": {},
   "outputs": [
    {
     "name": "stdout",
     "output_type": "stream",
     "text": [
      "<class 'str'>\n",
      "<class 'str'>\n",
      "<class 'str'>\n",
      "<class 'str'>\n",
      "<class 'str'>\n",
      "<class 'str'>\n",
      "<class 'str'>\n",
      "<class 'str'>\n",
      "<class 'str'>\n",
      "<class 'str'>\n",
      "<class 'str'>\n",
      "<class 'str'>\n",
      "<class 'str'>\n",
      "<class 'str'>\n",
      "<class 'str'>\n",
      "<class 'str'>\n",
      "<class 'str'>\n",
      "<class 'str'>\n",
      "<class 'str'>\n",
      "<class 'str'>\n",
      "<class 'str'>\n",
      "<class 'str'>\n",
      "<class 'str'>\n",
      "<class 'str'>\n",
      "<class 'str'>\n",
      "<class 'str'>\n",
      "<class 'str'>\n",
      "<class 'str'>\n",
      "<class 'str'>\n",
      "<class 'str'>\n",
      "<class 'str'>\n",
      "<class 'str'>\n",
      "<class 'str'>\n",
      "<class 'str'>\n",
      "<class 'str'>\n",
      "<class 'str'>\n",
      "<class 'str'>\n",
      "<class 'str'>\n",
      "<class 'str'>\n",
      "<class 'str'>\n",
      "<class 'str'>\n",
      "<class 'str'>\n",
      "<class 'str'>\n",
      "<class 'str'>\n",
      "<class 'str'>\n",
      "<class 'str'>\n",
      "<class 'str'>\n",
      "<class 'str'>\n",
      "<class 'str'>\n",
      "<class 'str'>\n",
      "<class 'str'>\n"
     ]
    }
   ],
   "source": [
    "for i in data:\n",
    "    print(type(i[0]))"
   ]
  },
  {
   "cell_type": "code",
   "execution_count": 15,
   "id": "d5c59a64-dab4-4ff0-aa7b-a4f1b8f2901d",
   "metadata": {},
   "outputs": [
    {
     "name": "stdout",
     "output_type": "stream",
     "text": [
      "roll no\n",
      "101\n",
      "102\n",
      "103\n",
      "104\n",
      "105\n",
      "106\n",
      "107\n",
      "108\n",
      "109\n",
      "110\n",
      "111\n",
      "112\n",
      "113\n",
      "114\n",
      "115\n",
      "116\n",
      "117\n",
      "118\n",
      "119\n",
      "120\n",
      "121\n",
      "122\n",
      "123\n",
      "124\n",
      "125\n",
      "126\n",
      "127\n",
      "128\n",
      "129\n",
      "130\n",
      "131\n",
      "132\n",
      "133\n",
      "134\n",
      "135\n",
      "136\n",
      "137\n",
      "138\n",
      "139\n",
      "140\n",
      "141\n",
      "142\n",
      "143\n",
      "144\n",
      "145\n",
      "146\n",
      "147\n",
      "148\n",
      "149\n",
      "150\n"
     ]
    }
   ],
   "source": [
    "for i in data:\n",
    "    print (i[0])"
   ]
  },
  {
   "cell_type": "code",
   "execution_count": 16,
   "id": "9063a4f7-6b2c-4aed-bfa5-e2c38ad2a6c7",
   "metadata": {},
   "outputs": [
    {
     "data": {
      "text/plain": [
       "[['101', 'Aliza', '50', '23', '87'],\n",
       " ['102', 'Fareed', '45', '24', '88'],\n",
       " ['103', 'Basit', '46', '25', '89'],\n",
       " ['104', 'Abdullah', '47', '26', '90'],\n",
       " ['105', 'Ali', '48', '27', '67'],\n",
       " ['106', 'Mubashir', '49', '28', '68'],\n",
       " ['107', 'Waleed', '50', '29', '69'],\n",
       " ['108', 'Mansoor', '51', '30', '70'],\n",
       " ['109', 'Zain', '52', '31', '71'],\n",
       " ['110', 'Mohsin', '53', '67', '72'],\n",
       " ['111', 'Shahmeer', '54', '68', '73'],\n",
       " ['112', 'Rao', '55', '69', '74'],\n",
       " ['113', 'Aurangzeb', '56', '70', '75'],\n",
       " ['114', 'Zeeshan', '57', '71', '76'],\n",
       " ['115', 'Hamna', '58', '72', '77'],\n",
       " ['116', 'Hamza', '59', '73', '78'],\n",
       " ['117', 'Khalid', '60', '74', '79'],\n",
       " ['118', 'Behroz', '61', '75', '80'],\n",
       " ['119', 'Justin', '62', '76', '81'],\n",
       " ['120', 'Danish', '63', '77', '82'],\n",
       " ['121', 'Kainat', '64', '78', '83'],\n",
       " ['122', 'Sameer', '65', '79', '84'],\n",
       " ['123', 'Raza', '66', '80', '85'],\n",
       " ['124', 'Kumar', '67', '81', '86'],\n",
       " ['125', 'Komal', '68', '82', '87'],\n",
       " ['126', 'Erum', '69', '83', '88'],\n",
       " ['127', 'Faiza', '70', '84', '89'],\n",
       " ['128', 'Saeed', '71', '85', '90'],\n",
       " ['129', 'Waqar', '72', '86', '91'],\n",
       " ['130', 'Wali', '73', '87', '92'],\n",
       " ['131', 'Wajid', '74', '88', '93'],\n",
       " ['132', 'Waseeb', '75', '89', '94'],\n",
       " ['133', 'Shiza', '76', '90', '95'],\n",
       " ['134', 'Shabina', '77', '91', '96'],\n",
       " ['135', 'Shazain', '78', '55', '97'],\n",
       " ['136', 'Lubna', '79', '61', '98'],\n",
       " ['137', 'Laiba', '80', '88', '78'],\n",
       " ['138', 'Khursheed', '81', '56', '45'],\n",
       " ['139', 'Ali', '82', '89', '46'],\n",
       " ['140', 'Aiza', '83', '45', '89'],\n",
       " ['141', 'Aiman', '84', '92', '78'],\n",
       " ['142', 'Yasmeen', '85', '36', '56'],\n",
       " ['143', 'Tasbeel', '86', '78', '78'],\n",
       " ['144', 'Laraib', '87', '56', '54'],\n",
       " ['145', 'Saleem', '88', '78', '78'],\n",
       " ['146', 'Bismil', '89', '89', '46'],\n",
       " ['147', 'Batool', '90', '56', '79'],\n",
       " ['148', 'Iqra', '91', '33', '46'],\n",
       " ['149', 'Zarnish', '92', '78', '45'],\n",
       " ['150', 'Zara', '83', '45', '56']]"
      ]
     },
     "execution_count": 16,
     "metadata": {},
     "output_type": "execute_result"
    }
   ],
   "source": [
    "data[1:]"
   ]
  },
  {
   "cell_type": "code",
   "execution_count": 17,
   "id": "71d607a4-511b-4696-86fc-d370be6c0556",
   "metadata": {},
   "outputs": [
    {
     "data": {
      "text/plain": [
       "'50'"
      ]
     },
     "execution_count": 17,
     "metadata": {},
     "output_type": "execute_result"
    }
   ],
   "source": [
    "data[1][2]"
   ]
  },
  {
   "cell_type": "code",
   "execution_count": 18,
   "id": "100936c8-876f-41cc-a6db-3b1608f11c5b",
   "metadata": {},
   "outputs": [
    {
     "name": "stdout",
     "output_type": "stream",
     "text": [
      "50.0\n",
      "45.0\n",
      "46.0\n",
      "47.0\n",
      "48.0\n",
      "49.0\n",
      "50.0\n",
      "51.0\n",
      "52.0\n",
      "53.0\n",
      "54.0\n",
      "55.0\n",
      "56.0\n",
      "57.0\n",
      "58.0\n",
      "59.0\n",
      "60.0\n",
      "61.0\n",
      "62.0\n",
      "63.0\n",
      "64.0\n",
      "65.0\n",
      "66.0\n",
      "67.0\n",
      "68.0\n",
      "69.0\n",
      "70.0\n",
      "71.0\n",
      "72.0\n",
      "73.0\n",
      "74.0\n",
      "75.0\n",
      "76.0\n",
      "77.0\n",
      "78.0\n",
      "79.0\n",
      "80.0\n",
      "81.0\n",
      "82.0\n",
      "83.0\n",
      "84.0\n",
      "85.0\n",
      "86.0\n",
      "87.0\n",
      "88.0\n",
      "89.0\n",
      "90.0\n",
      "91.0\n",
      "92.0\n",
      "83.0\n"
     ]
    }
   ],
   "source": [
    "for j in data[1:]:\n",
    "    print(float(j[2]))"
   ]
  },
  {
   "cell_type": "code",
   "execution_count": 19,
   "id": "3f8271ba-0d19-4a0b-9558-9c58aa71e528",
   "metadata": {},
   "outputs": [],
   "source": [
    "chem =[]\n",
    "for j in data[1:]:\n",
    "   chem. append(float(j[2]))"
   ]
  },
  {
   "cell_type": "code",
   "execution_count": 20,
   "id": "0c677ac6-c48e-4c87-b32e-536686461a61",
   "metadata": {},
   "outputs": [
    {
     "data": {
      "text/plain": [
       "[50.0,\n",
       " 45.0,\n",
       " 46.0,\n",
       " 47.0,\n",
       " 48.0,\n",
       " 49.0,\n",
       " 50.0,\n",
       " 51.0,\n",
       " 52.0,\n",
       " 53.0,\n",
       " 54.0,\n",
       " 55.0,\n",
       " 56.0,\n",
       " 57.0,\n",
       " 58.0,\n",
       " 59.0,\n",
       " 60.0,\n",
       " 61.0,\n",
       " 62.0,\n",
       " 63.0,\n",
       " 64.0,\n",
       " 65.0,\n",
       " 66.0,\n",
       " 67.0,\n",
       " 68.0,\n",
       " 69.0,\n",
       " 70.0,\n",
       " 71.0,\n",
       " 72.0,\n",
       " 73.0,\n",
       " 74.0,\n",
       " 75.0,\n",
       " 76.0,\n",
       " 77.0,\n",
       " 78.0,\n",
       " 79.0,\n",
       " 80.0,\n",
       " 81.0,\n",
       " 82.0,\n",
       " 83.0,\n",
       " 84.0,\n",
       " 85.0,\n",
       " 86.0,\n",
       " 87.0,\n",
       " 88.0,\n",
       " 89.0,\n",
       " 90.0,\n",
       " 91.0,\n",
       " 92.0,\n",
       " 83.0]"
      ]
     },
     "execution_count": 20,
     "metadata": {},
     "output_type": "execute_result"
    }
   ],
   "source": [
    "chem"
   ]
  },
  {
   "cell_type": "code",
   "execution_count": 21,
   "id": "66843a6a-0c19-41a7-8532-24fe149dd780",
   "metadata": {},
   "outputs": [
    {
     "data": {
      "text/plain": [
       "3421.0"
      ]
     },
     "execution_count": 21,
     "metadata": {},
     "output_type": "execute_result"
    }
   ],
   "source": [
    "sum(chem)"
   ]
  },
  {
   "cell_type": "code",
   "execution_count": 22,
   "id": "39b43493-a62b-4659-95d3-a45d9d52d67a",
   "metadata": {},
   "outputs": [
    {
     "data": {
      "text/plain": [
       "50"
      ]
     },
     "execution_count": 22,
     "metadata": {},
     "output_type": "execute_result"
    }
   ],
   "source": [
    "len(chem)"
   ]
  },
  {
   "cell_type": "code",
   "execution_count": 23,
   "id": "6fffa130-05ce-4d6a-8132-86581ea6dd7d",
   "metadata": {},
   "outputs": [
    {
     "data": {
      "text/plain": [
       "68.42"
      ]
     },
     "execution_count": 23,
     "metadata": {},
     "output_type": "execute_result"
    }
   ],
   "source": [
    "avg = sum(chem)/len(chem)\n",
    "avg"
   ]
  },
  {
   "cell_type": "code",
   "execution_count": 26,
   "id": "67f75386-884c-47ac-9a8e-442f5d33483e",
   "metadata": {},
   "outputs": [
    {
     "name": "stdout",
     "output_type": "stream",
     "text": [
      "53.333333333333336\n",
      "52.33333333333333\n",
      "53.333333333333336\n",
      "54.333333333333336\n",
      "47.333333333333336\n",
      "48.333333333333336\n",
      "49.333333333333336\n",
      "50.33333333333333\n",
      "51.33333333333333\n",
      "64.0\n",
      "65.0\n",
      "66.0\n",
      "67.0\n",
      "68.0\n",
      "69.0\n",
      "70.0\n",
      "71.0\n",
      "72.0\n",
      "73.0\n",
      "74.0\n",
      "75.0\n",
      "76.0\n",
      "77.0\n",
      "78.0\n",
      "79.0\n",
      "80.0\n",
      "81.0\n",
      "82.0\n",
      "83.0\n",
      "84.0\n",
      "85.0\n",
      "86.0\n",
      "87.0\n",
      "88.0\n",
      "76.66666666666667\n",
      "79.33333333333333\n",
      "82.0\n",
      "60.66666666666667\n",
      "72.33333333333334\n",
      "72.33333333333334\n",
      "84.66666666666667\n",
      "59.0\n",
      "80.66666666666666\n",
      "65.66666666666666\n",
      "81.33333333333333\n",
      "74.66666666666667\n",
      "75.0\n",
      "56.666666666666664\n",
      "71.66666666666667\n",
      "61.33333333333333\n"
     ]
    }
   ],
   "source": [
    "for per  in data[1:]:\n",
    "    chem = float(per[2])\n",
    "    phy = float(per[3])\n",
    "    maths = float(per[4])\n",
    "    percentage = (phy+maths+chem)/300*100\n",
    "    print (percentage)"
   ]
  },
  {
   "cell_type": "code",
   "execution_count": 27,
   "id": "a970f821-81b7-4f1b-8dab-3713cd732df5",
   "metadata": {},
   "outputs": [
    {
     "name": "stdout",
     "output_type": "stream",
     "text": [
      "53.33\n",
      "52.33\n",
      "53.33\n",
      "54.33\n",
      "47.33\n",
      "48.33\n",
      "49.33\n",
      "50.33\n",
      "51.33\n",
      "64.0\n",
      "65.0\n",
      "66.0\n",
      "67.0\n",
      "68.0\n",
      "69.0\n",
      "70.0\n",
      "71.0\n",
      "72.0\n",
      "73.0\n",
      "74.0\n",
      "75.0\n",
      "76.0\n",
      "77.0\n",
      "78.0\n",
      "79.0\n",
      "80.0\n",
      "81.0\n",
      "82.0\n",
      "83.0\n",
      "84.0\n",
      "85.0\n",
      "86.0\n",
      "87.0\n",
      "88.0\n",
      "76.67\n",
      "79.33\n",
      "82.0\n",
      "60.67\n",
      "72.33\n",
      "72.33\n",
      "84.67\n",
      "59.0\n",
      "80.67\n",
      "65.67\n",
      "81.33\n",
      "74.67\n",
      "75.0\n",
      "56.67\n",
      "71.67\n",
      "61.33\n"
     ]
    }
   ],
   "source": [
    "for per  in data[1:]:\n",
    "    chem = float(per[2])\n",
    "    phy = float(per[3])\n",
    "    maths = float(per[4])\n",
    "    percentage = round ((phy+maths+chem)/300*100,2)\n",
    "    print (percentage)"
   ]
  },
  {
   "cell_type": "code",
   "execution_count": 30,
   "id": "a83399e5-a935-455e-822c-843d5accad56",
   "metadata": {},
   "outputs": [],
   "source": [
    "for per  in data[1:]:\n",
    "    chem = float(per[2])\n",
    "    phy = float(per[3])\n",
    "    maths = float(per[4])\n",
    "    percentage = round ((phy+maths+chem)/300*100,2)\n",
    "    per.append(percentage)\n",
    "   "
   ]
  },
  {
   "cell_type": "code",
   "execution_count": 31,
   "id": "1e0710f4-fdaf-4878-86cf-d354e8978f55",
   "metadata": {},
   "outputs": [
    {
     "data": {
      "text/plain": [
       "[['roll no', 'Name', 'Chemistry', 'Physics', 'Math'],\n",
       " ['101', 'Aliza', '50', '23', '87', 53.33, 53.33],\n",
       " ['102', 'Fareed', '45', '24', '88', 52.33, 52.33],\n",
       " ['103', 'Basit', '46', '25', '89', 53.33, 53.33],\n",
       " ['104', 'Abdullah', '47', '26', '90', 54.33, 54.33],\n",
       " ['105', 'Ali', '48', '27', '67', 47.33, 47.33],\n",
       " ['106', 'Mubashir', '49', '28', '68', 48.33, 48.33],\n",
       " ['107', 'Waleed', '50', '29', '69', 49.33, 49.33],\n",
       " ['108', 'Mansoor', '51', '30', '70', 50.33, 50.33],\n",
       " ['109', 'Zain', '52', '31', '71', 51.33, 51.33],\n",
       " ['110', 'Mohsin', '53', '67', '72', 64.0, 64.0],\n",
       " ['111', 'Shahmeer', '54', '68', '73', 65.0, 65.0],\n",
       " ['112', 'Rao', '55', '69', '74', 66.0, 66.0],\n",
       " ['113', 'Aurangzeb', '56', '70', '75', 67.0, 67.0],\n",
       " ['114', 'Zeeshan', '57', '71', '76', 68.0, 68.0],\n",
       " ['115', 'Hamna', '58', '72', '77', 69.0, 69.0],\n",
       " ['116', 'Hamza', '59', '73', '78', 70.0, 70.0],\n",
       " ['117', 'Khalid', '60', '74', '79', 71.0, 71.0],\n",
       " ['118', 'Behroz', '61', '75', '80', 72.0, 72.0],\n",
       " ['119', 'Justin', '62', '76', '81', 73.0, 73.0],\n",
       " ['120', 'Danish', '63', '77', '82', 74.0, 74.0],\n",
       " ['121', 'Kainat', '64', '78', '83', 75.0, 75.0],\n",
       " ['122', 'Sameer', '65', '79', '84', 76.0, 76.0],\n",
       " ['123', 'Raza', '66', '80', '85', 77.0, 77.0],\n",
       " ['124', 'Kumar', '67', '81', '86', 78.0, 78.0],\n",
       " ['125', 'Komal', '68', '82', '87', 79.0, 79.0],\n",
       " ['126', 'Erum', '69', '83', '88', 80.0, 80.0],\n",
       " ['127', 'Faiza', '70', '84', '89', 81.0, 81.0],\n",
       " ['128', 'Saeed', '71', '85', '90', 82.0, 82.0],\n",
       " ['129', 'Waqar', '72', '86', '91', 83.0, 83.0],\n",
       " ['130', 'Wali', '73', '87', '92', 84.0, 84.0],\n",
       " ['131', 'Wajid', '74', '88', '93', 85.0, 85.0],\n",
       " ['132', 'Waseeb', '75', '89', '94', 86.0, 86.0],\n",
       " ['133', 'Shiza', '76', '90', '95', 87.0, 87.0],\n",
       " ['134', 'Shabina', '77', '91', '96', 88.0, 88.0],\n",
       " ['135', 'Shazain', '78', '55', '97', 76.67, 76.67],\n",
       " ['136', 'Lubna', '79', '61', '98', 79.33, 79.33],\n",
       " ['137', 'Laiba', '80', '88', '78', 82.0, 82.0],\n",
       " ['138', 'Khursheed', '81', '56', '45', 60.67, 60.67],\n",
       " ['139', 'Ali', '82', '89', '46', 72.33, 72.33],\n",
       " ['140', 'Aiza', '83', '45', '89', 72.33, 72.33],\n",
       " ['141', 'Aiman', '84', '92', '78', 84.67, 84.67],\n",
       " ['142', 'Yasmeen', '85', '36', '56', 59.0, 59.0],\n",
       " ['143', 'Tasbeel', '86', '78', '78', 80.67, 80.67],\n",
       " ['144', 'Laraib', '87', '56', '54', 65.67, 65.67],\n",
       " ['145', 'Saleem', '88', '78', '78', 81.33, 81.33],\n",
       " ['146', 'Bismil', '89', '89', '46', 74.67, 74.67],\n",
       " ['147', 'Batool', '90', '56', '79', 75.0, 75.0],\n",
       " ['148', 'Iqra', '91', '33', '46', 56.67, 56.67],\n",
       " ['149', 'Zarnish', '92', '78', '45', 71.67, 71.67],\n",
       " ['150', 'Zara', '83', '45', '56', 61.33, 61.33]]"
      ]
     },
     "execution_count": 31,
     "metadata": {},
     "output_type": "execute_result"
    }
   ],
   "source": [
    "data "
   ]
  },
  {
   "cell_type": "code",
   "execution_count": null,
   "id": "6bc2b5cc-788d-46b7-bcda-b01343a144b4",
   "metadata": {},
   "outputs": [],
   "source": [
    "for per  in data[1:]:\n",
    "    chem = float(per[2])\n",
    "    phy = float(per[3])\n",
    "    maths = float(per[4])\n",
    "    percentage = round ((phy+maths+chem)/300*100,2)\n",
    "    per.append(percentage)"
   ]
  },
  {
   "cell_type": "code",
   "execution_count": 33,
   "id": "556559f9-ea6e-4764-a4cf-dc78476f4420",
   "metadata": {},
   "outputs": [
    {
     "data": {
      "text/plain": [
       "['roll no', 'Name', 'Chemistry', 'Physics', 'Math']"
      ]
     },
     "execution_count": 33,
     "metadata": {},
     "output_type": "execute_result"
    }
   ],
   "source": [
    "header = data[0]\n",
    "header"
   ]
  },
  {
   "cell_type": "code",
   "execution_count": 34,
   "id": "dd76ac63-3a18-4ac4-9a05-c01412031d2d",
   "metadata": {},
   "outputs": [],
   "source": [
    "header.append('percentage')"
   ]
  },
  {
   "cell_type": "code",
   "execution_count": 35,
   "id": "1ac1e22f-bf08-49fb-a647-2845f041d043",
   "metadata": {},
   "outputs": [
    {
     "data": {
      "text/plain": [
       "[['roll no', 'Name', 'Chemistry', 'Physics', 'Math', 'percentage'],\n",
       " ['101', 'Aliza', '50', '23', '87', 53.33, 53.33],\n",
       " ['102', 'Fareed', '45', '24', '88', 52.33, 52.33],\n",
       " ['103', 'Basit', '46', '25', '89', 53.33, 53.33],\n",
       " ['104', 'Abdullah', '47', '26', '90', 54.33, 54.33],\n",
       " ['105', 'Ali', '48', '27', '67', 47.33, 47.33],\n",
       " ['106', 'Mubashir', '49', '28', '68', 48.33, 48.33],\n",
       " ['107', 'Waleed', '50', '29', '69', 49.33, 49.33],\n",
       " ['108', 'Mansoor', '51', '30', '70', 50.33, 50.33],\n",
       " ['109', 'Zain', '52', '31', '71', 51.33, 51.33],\n",
       " ['110', 'Mohsin', '53', '67', '72', 64.0, 64.0],\n",
       " ['111', 'Shahmeer', '54', '68', '73', 65.0, 65.0],\n",
       " ['112', 'Rao', '55', '69', '74', 66.0, 66.0],\n",
       " ['113', 'Aurangzeb', '56', '70', '75', 67.0, 67.0],\n",
       " ['114', 'Zeeshan', '57', '71', '76', 68.0, 68.0],\n",
       " ['115', 'Hamna', '58', '72', '77', 69.0, 69.0],\n",
       " ['116', 'Hamza', '59', '73', '78', 70.0, 70.0],\n",
       " ['117', 'Khalid', '60', '74', '79', 71.0, 71.0],\n",
       " ['118', 'Behroz', '61', '75', '80', 72.0, 72.0],\n",
       " ['119', 'Justin', '62', '76', '81', 73.0, 73.0],\n",
       " ['120', 'Danish', '63', '77', '82', 74.0, 74.0],\n",
       " ['121', 'Kainat', '64', '78', '83', 75.0, 75.0],\n",
       " ['122', 'Sameer', '65', '79', '84', 76.0, 76.0],\n",
       " ['123', 'Raza', '66', '80', '85', 77.0, 77.0],\n",
       " ['124', 'Kumar', '67', '81', '86', 78.0, 78.0],\n",
       " ['125', 'Komal', '68', '82', '87', 79.0, 79.0],\n",
       " ['126', 'Erum', '69', '83', '88', 80.0, 80.0],\n",
       " ['127', 'Faiza', '70', '84', '89', 81.0, 81.0],\n",
       " ['128', 'Saeed', '71', '85', '90', 82.0, 82.0],\n",
       " ['129', 'Waqar', '72', '86', '91', 83.0, 83.0],\n",
       " ['130', 'Wali', '73', '87', '92', 84.0, 84.0],\n",
       " ['131', 'Wajid', '74', '88', '93', 85.0, 85.0],\n",
       " ['132', 'Waseeb', '75', '89', '94', 86.0, 86.0],\n",
       " ['133', 'Shiza', '76', '90', '95', 87.0, 87.0],\n",
       " ['134', 'Shabina', '77', '91', '96', 88.0, 88.0],\n",
       " ['135', 'Shazain', '78', '55', '97', 76.67, 76.67],\n",
       " ['136', 'Lubna', '79', '61', '98', 79.33, 79.33],\n",
       " ['137', 'Laiba', '80', '88', '78', 82.0, 82.0],\n",
       " ['138', 'Khursheed', '81', '56', '45', 60.67, 60.67],\n",
       " ['139', 'Ali', '82', '89', '46', 72.33, 72.33],\n",
       " ['140', 'Aiza', '83', '45', '89', 72.33, 72.33],\n",
       " ['141', 'Aiman', '84', '92', '78', 84.67, 84.67],\n",
       " ['142', 'Yasmeen', '85', '36', '56', 59.0, 59.0],\n",
       " ['143', 'Tasbeel', '86', '78', '78', 80.67, 80.67],\n",
       " ['144', 'Laraib', '87', '56', '54', 65.67, 65.67],\n",
       " ['145', 'Saleem', '88', '78', '78', 81.33, 81.33],\n",
       " ['146', 'Bismil', '89', '89', '46', 74.67, 74.67],\n",
       " ['147', 'Batool', '90', '56', '79', 75.0, 75.0],\n",
       " ['148', 'Iqra', '91', '33', '46', 56.67, 56.67],\n",
       " ['149', 'Zarnish', '92', '78', '45', 71.67, 71.67],\n",
       " ['150', 'Zara', '83', '45', '56', 61.33, 61.33]]"
      ]
     },
     "execution_count": 35,
     "metadata": {},
     "output_type": "execute_result"
    }
   ],
   "source": [
    "data"
   ]
  },
  {
   "cell_type": "code",
   "execution_count": 36,
   "id": "4579e76d-5798-4faf-9f57-c35f44128189",
   "metadata": {},
   "outputs": [
    {
     "data": {
      "text/plain": [
       "<_io.TextIOWrapper name='new student mark.csv' mode='w' encoding='cp1252'>"
      ]
     },
     "execution_count": 36,
     "metadata": {},
     "output_type": "execute_result"
    }
   ],
   "source": [
    "updated=open('new student mark.csv',mode='w')\n",
    "updated"
   ]
  },
  {
   "cell_type": "code",
   "execution_count": 39,
   "id": "b6ada213-9af9-48d7-a219-c4cbc3232a2c",
   "metadata": {},
   "outputs": [
    {
     "data": {
      "text/plain": [
       "<_csv.writer at 0x20e909cb9a0>"
      ]
     },
     "execution_count": 39,
     "metadata": {},
     "output_type": "execute_result"
    }
   ],
   "source": [
    "writer = csv.writer (updated)\n",
    "writer"
   ]
  },
  {
   "cell_type": "code",
   "execution_count": 40,
   "id": "474184c2-2628-4bed-ba7b-4ff9368990f2",
   "metadata": {},
   "outputs": [],
   "source": [
    "writer.writerows(data)"
   ]
  },
  {
   "cell_type": "code",
   "execution_count": 41,
   "id": "82954005-c649-4f73-a734-011b9a219408",
   "metadata": {},
   "outputs": [],
   "source": [
    "updated.close()"
   ]
  },
  {
   "cell_type": "code",
   "execution_count": 45,
   "id": "97cf3f8c-937f-41e6-af5a-ef578c357286",
   "metadata": {},
   "outputs": [],
   "source": [
    "updated1 =open('new student marks part 2.csv',mode='w', newline='')\n",
    "writer1=csv.writer(updated1)\n",
    "writer1.writerows(data)\n",
    "updated1.close()"
   ]
  },
  {
   "cell_type": "code",
   "execution_count": null,
   "id": "eaceba54-56a0-4c51-a47a-53d21f98740e",
   "metadata": {},
   "outputs": [],
   "source": []
  },
  {
   "cell_type": "code",
   "execution_count": null,
   "id": "3a6baa04-e240-4326-b765-a4f603be693c",
   "metadata": {},
   "outputs": [],
   "source": []
  }
 ],
 "metadata": {
  "kernelspec": {
   "display_name": "Python 3 (ipykernel)",
   "language": "python",
   "name": "python3"
  },
  "language_info": {
   "codemirror_mode": {
    "name": "ipython",
    "version": 3
   },
   "file_extension": ".py",
   "mimetype": "text/x-python",
   "name": "python",
   "nbconvert_exporter": "python",
   "pygments_lexer": "ipython3",
   "version": "3.13.5"
  }
 },
 "nbformat": 4,
 "nbformat_minor": 5
}
