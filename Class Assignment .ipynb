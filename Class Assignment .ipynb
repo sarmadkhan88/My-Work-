{
 "cells": [
  {
   "cell_type": "code",
   "execution_count": null,
   "id": "b2a8c83d-8491-439e-ae46-fa2236434b41",
   "metadata": {},
   "outputs": [],
   "source": [
    "Q:1"
   ]
  },
  {
   "cell_type": "code",
   "execution_count": 3,
   "id": "a54854a2-81ad-4083-80ec-0de036711866",
   "metadata": {},
   "outputs": [
    {
     "name": "stdin",
     "output_type": "stream",
     "text": [
      "Enter a number:  52\n"
     ]
    }
   ],
   "source": [
    "num = int(input(\"Enter a number: \"))"
   ]
  },
  {
   "cell_type": "code",
   "execution_count": null,
   "id": "83785997-e108-4786-91e0-d44d440fda57",
   "metadata": {},
   "outputs": [],
   "source": [
    "Q:2"
   ]
  },
  {
   "cell_type": "code",
   "execution_count": 5,
   "id": "4f3d7bc4-a537-47be-a508-8bc37ca59673",
   "metadata": {},
   "outputs": [
    {
     "name": "stdout",
     "output_type": "stream",
     "text": [
      "Even and Big\n"
     ]
    }
   ],
   "source": [
    "if num % 2 == 0 and num > 50:\n",
    "    print(\"Even and Big\")"
   ]
  },
  {
   "cell_type": "code",
   "execution_count": null,
   "id": "6bf20f7c-b8a9-4da9-9398-68aa96da58ce",
   "metadata": {},
   "outputs": [],
   "source": [
    "Q:3"
   ]
  },
  {
   "cell_type": "code",
   "execution_count": 8,
   "id": "f9db0fb6-4690-4025-ada3-3dbbf8dd8774",
   "metadata": {},
   "outputs": [
    {
     "ename": "SyntaxError",
     "evalue": "invalid syntax (634470442.py, line 1)",
     "output_type": "error",
     "traceback": [
      "\u001b[1;36m  Cell \u001b[1;32mIn[8], line 1\u001b[1;36m\u001b[0m\n\u001b[1;33m    elif num % 2 == 0 and num < = 50:\u001b[0m\n\u001b[1;37m    ^\u001b[0m\n\u001b[1;31mSyntaxError\u001b[0m\u001b[1;31m:\u001b[0m invalid syntax\n"
     ]
    }
   ],
   "source": [
    "elif num % 2 == 0 and num < = 50:\n",
    "    print(\"Even and Small\")"
   ]
  },
  {
   "cell_type": "code",
   "execution_count": null,
   "id": "fa0d6422-1a74-4df9-93a6-6150398f5f2d",
   "metadata": {},
   "outputs": [],
   "source": [
    "Q:4"
   ]
  },
  {
   "cell_type": "code",
   "execution_count": 10,
   "id": "ad3db22e-d028-42ae-9f67-cdfaeeb3afe5",
   "metadata": {},
   "outputs": [
    {
     "ename": "SyntaxError",
     "evalue": "invalid syntax (3773754979.py, line 1)",
     "output_type": "error",
     "traceback": [
      "\u001b[1;36m  Cell \u001b[1;32mIn[10], line 1\u001b[1;36m\u001b[0m\n\u001b[1;33m    elif num % 2 != 0 and num > 50:\u001b[0m\n\u001b[1;37m    ^\u001b[0m\n\u001b[1;31mSyntaxError\u001b[0m\u001b[1;31m:\u001b[0m invalid syntax\n"
     ]
    }
   ],
   "source": [
    "elif num % 2 != 0 and num > 50:\n",
    "    print(\"Odd and Big\")"
   ]
  },
  {
   "cell_type": "code",
   "execution_count": null,
   "id": "3c330a41-297a-46ec-bc7d-83a0e90f9be7",
   "metadata": {},
   "outputs": [],
   "source": [
    "Q:5"
   ]
  },
  {
   "cell_type": "code",
   "execution_count": 13,
   "id": "afca4796-0096-4fc0-9b21-f2859835e973",
   "metadata": {},
   "outputs": [
    {
     "ename": "SyntaxError",
     "evalue": "invalid syntax (3374317509.py, line 1)",
     "output_type": "error",
     "traceback": [
      "\u001b[1;36m  Cell \u001b[1;32mIn[13], line 1\u001b[1;36m\u001b[0m\n\u001b[1;33m    else:\u001b[0m\n\u001b[1;37m    ^\u001b[0m\n\u001b[1;31mSyntaxError\u001b[0m\u001b[1;31m:\u001b[0m invalid syntax\n"
     ]
    }
   ],
   "source": [
    "else: \n",
    "    print(\"Odd and Small\")"
   ]
  },
  {
   "cell_type": "code",
   "execution_count": 14,
   "id": "34d9deb3-6501-4288-8a29-83e3aa0e7af2",
   "metadata": {},
   "outputs": [
    {
     "name": "stdin",
     "output_type": "stream",
     "text": [
      "Enter a number:  52\n"
     ]
    },
    {
     "name": "stdout",
     "output_type": "stream",
     "text": [
      "Even and Big\n"
     ]
    }
   ],
   "source": [
    "num = int(input(\"Enter a number: \"))\n",
    "\n",
    "if num % 2 == 0 and num > 50:\n",
    "    print(\"Even and Big\")\n",
    "elif num % 2 == 0 and num <= 50:\n",
    "    print(\"Even and Small\")\n",
    "elif num % 2 != 0 and num > 50:\n",
    "    print(\"Odd and Big\")\n",
    "else:\n",
    "    print(\"Odd and Small\")"
   ]
  }
 ],
 "metadata": {
  "kernelspec": {
   "display_name": "Python 3 (ipykernel)",
   "language": "python",
   "name": "python3"
  },
  "language_info": {
   "codemirror_mode": {
    "name": "ipython",
    "version": 3
   },
   "file_extension": ".py",
   "mimetype": "text/x-python",
   "name": "python",
   "nbconvert_exporter": "python",
   "pygments_lexer": "ipython3",
   "version": "3.13.5"
  }
 },
 "nbformat": 4,
 "nbformat_minor": 5
}
